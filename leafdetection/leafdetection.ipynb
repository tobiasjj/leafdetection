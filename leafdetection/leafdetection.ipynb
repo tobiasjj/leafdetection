{
 "cells": [
  {
   "cell_type": "code",
   "execution_count": 1,
   "metadata": {},
   "outputs": [
    {
     "data": {
      "text/html": [
       "<style>.container { width:90% !important; }</style>"
      ],
      "text/plain": [
       "<IPython.core.display.HTML object>"
      ]
     },
     "metadata": {},
     "output_type": "display_data"
    }
   ],
   "source": [
    "# Import leafdetection functions and other packages\n",
    "import matplotlib\n",
    "matplotlib.use('module://ipympl.backend_nbagg')\n",
    "\n",
    "import os\n",
    "import skimage.io\n",
    "\n",
    "from leafdetection import create_experiment_name, autodetect_leafs, reorder_leafs, overwrite_with_reordered_leafs\n",
    "from matplotlib import pyplot as plt\n",
    "\n",
    "from IPython.core.display import display, HTML\n",
    "display(HTML(\"<style>.container { width:90% !important; }</style>\"))"
   ]
  },
  {
   "cell_type": "code",
   "execution_count": 2,
   "metadata": {},
   "outputs": [
    {
     "name": "stdout",
     "output_type": "stream",
     "text": [
      "Processing image \"/nfs/home/tobiasj/ZMBP/ipython/development/leafdetection/leafdetection/images/IMG_3576.JPG\" with experiment name \"IMG_3576\" ...\n",
      "  Detected 13 leafs in 3 rows.\n",
      "  Saving results in directory \"/nfs/home/tobiasj/ZMBP/ipython/development/leafdetection/leafdetection/results\" ...\n",
      "  Saving overview in directory \"/nfs/home/tobiasj/ZMBP/ipython/development/leafdetection/leafdetection/results/overview\" ... DONE\n"
     ]
    }
   ],
   "source": [
    "# Set some variables\n",
    "\n",
    "# Adjust the threshold for leaf detection\n",
    "threshold = 19\n",
    "\n",
    "# Adjust the minimum area a detected leaf has to have to be\n",
    "# accepted as one. You have to consider:\n",
    "#   1. Leaf size\n",
    "#   2. Image size (4000 x 6000 pixel)\n",
    "#   3. Zoom factor of camera\n",
    "min_area = 5000\n",
    "\n",
    "# horizontal_dilate needs to be larger than half the difference\n",
    "# of the x values of the central positions of two neighbouring\n",
    "# leafs (in one row), but as small as possible.\n",
    "horizontal_dilate = 400\n",
    "\n",
    "# vertical_dilate needs to be larger than half the difference\n",
    "# of the y values of the central positions of two neighbouring\n",
    "# leafs (in one row), but as small as possible.\n",
    "vertical_dilate = 200\n",
    "\n",
    "# Select the directory, where the leaf images to be processed are located\n",
    "leaf_images_dir = './images'\n",
    "\n",
    "# Select the directories the images, regions and overview should be saved into\n",
    "results_dir = './results'\n",
    "\n",
    "# Autodetect leafs of all 'JPG' images in the folder `leaf_images_dir`\n",
    "for dirpath, dirnames, image_filenames in os.walk(leaf_images_dir):\n",
    "    for image_filename in image_filenames:\n",
    "        if image_filename.endswith('.JPG') or image_filename.endswith('.jpg'):\n",
    "            fullname = os.path.abspath(os.path.join(dirpath, image_filename))\n",
    "            experiment_name = create_experiment_name(image_filename)\n",
    "            autodetect_leafs(fullname, results_dir, experiment_name, threshold=threshold, min_area=min_area,\n",
    "                             vertical_dilate=vertical_dilate, horizontal_dilate=horizontal_dilate, verbose=True)"
   ]
  },
  {
   "cell_type": "code",
   "execution_count": 6,
   "metadata": {},
   "outputs": [
    {
     "data": {
      "application/vnd.jupyter.widget-view+json": {
       "model_id": "ac2b487f0ca34c21abfad41c58d71977",
       "version_major": 2,
       "version_minor": 0
      },
      "text/plain": [
       "FigureCanvasNbAgg()"
      ]
     },
     "metadata": {},
     "output_type": "display_data"
    }
   ],
   "source": [
    "# Reorder autodetected leafs\n",
    "image_filename = './images/IMG_3576.JPG'\n",
    "results_dir = 'results'\n",
    "experiment_name = create_experiment_name(image_filename)\n",
    "\n",
    "fig, ax, leaf_regions, regions_removed = reorder_leafs(image_filename, results_dir, experiment_name)"
   ]
  },
  {
   "cell_type": "code",
   "execution_count": 5,
   "metadata": {},
   "outputs": [],
   "source": [
    "# Overwrite the the old results with reordered leafs,\n",
    "overwrite_with_reordered_leafs(fig, image_filename, results_dir, experiment_name, leaf_regions)\n",
    "# close the figure and release the memory\n",
    "fig.clear()\n",
    "plt.close(fig)"
   ]
  }
 ],
 "metadata": {
  "kernelspec": {
   "display_name": "Python 3",
   "language": "python",
   "name": "python3"
  },
  "language_info": {
   "codemirror_mode": {
    "name": "ipython",
    "version": 3
   },
   "file_extension": ".py",
   "mimetype": "text/x-python",
   "name": "python",
   "nbconvert_exporter": "python",
   "pygments_lexer": "ipython3",
   "version": "3.7.3rc1"
  }
 },
 "nbformat": 4,
 "nbformat_minor": 4
}
